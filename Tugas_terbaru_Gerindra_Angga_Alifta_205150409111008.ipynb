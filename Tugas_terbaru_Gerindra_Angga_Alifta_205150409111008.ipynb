{
  "nbformat": 4,
  "nbformat_minor": 0,
  "metadata": {
    "colab": {
      "name": "Tugas_terbaru_Gerindra_Angga_Alifta_205150409111008.ipynb",
      "provenance": [],
      "authorship_tag": "ABX9TyNSghwa4gPwaIhmcC1rvopc",
      "include_colab_link": true
    },
    "kernelspec": {
      "name": "python3",
      "display_name": "Python 3"
    }
  },
  "cells": [
    {
      "cell_type": "markdown",
      "metadata": {
        "id": "view-in-github",
        "colab_type": "text"
      },
      "source": [
        "<a href=\"https://colab.research.google.com/github/Gerindraanggaalifta98/tugasterbaru/blob/main/Tugas_terbaru_Gerindra_Angga_Alifta_205150409111008.ipynb\" target=\"_parent\"><img src=\"https://colab.research.google.com/assets/colab-badge.svg\" alt=\"Open In Colab\"/></a>"
      ]
    },
    {
      "cell_type": "code",
      "metadata": {
        "id": "PemDJRJTUjnc"
      },
      "source": [
        ""
      ],
      "execution_count": null,
      "outputs": []
    },
    {
      "cell_type": "markdown",
      "metadata": {
        "id": "nsNZXjC2U1Xx"
      },
      "source": [
        "**Deskripsi Tujuan Bisnis**\n",
        "\n",
        "1. Dengan adanya data ini user akan mengetahui Rating dan Review dari tiap mobil.\n",
        "2. Mengetahui mana saja mobil dengan tahun produksi.\n",
        "3. Dapat mengetahui harga dari mobil yang dijual.\n",
        "4. Dapat mengetahui seberapa banyak review yang didapat dalam masing-masing mobil.\n",
        "\n",
        "**Analisa Pendekatan**\n",
        "\n",
        "Dalam penelitian ini menggunakan metode Exploratory Data Analysis merupakan metode eksplorasi data dengan menggunakan teknik aritmatika sederhana dan teknik grafis dalam meringkas data pengamatan. Adapaun langkah langkahnya adalah Masalah - Data - Analisis - Model - Kesimpulan.\n",
        "\n",
        "**Pengumpulan Data**\n",
        "\n",
        "Dalam tahap ini disini peneliti menggunakan dataset yang diambil dari atapdata.ai yang berjudul harga mobil bekas. Dataset ini dibuat oleh Remko Weingarten.\n",
        "\n",
        "Pemahaman Data\n",
        "\n",
        "Dataset yang berjudul \"Amazon Top 50 Bestselling Books 2009 - 2019\" ini berisikan mengenai data terkait harga jual mobil bekas. Didalam nya terdapat kolom nama mobil, tipe, variant, tahun, dan sebagainya. \n",
        "\n"
      ]
    },
    {
      "cell_type": "markdown",
      "metadata": {
        "id": "HTzMVFivYFR4"
      },
      "source": [
        "**Eksplorasi Data**\n",
        "peneliti menggunakan library \"pandas\", \"numpy\", \"seaborn\""
      ]
    },
    {
      "cell_type": "code",
      "metadata": {
        "id": "Kohp74JmYYzX"
      },
      "source": [
        ""
      ],
      "execution_count": null,
      "outputs": []
    }
  ]
}